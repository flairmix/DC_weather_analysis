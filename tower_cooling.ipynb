{
 "cells": [
  {
   "cell_type": "code",
   "execution_count": 1,
   "metadata": {},
   "outputs": [],
   "source": [
    "\n",
    "def draft_flow(area, \n",
    "               coef,\n",
    "               height, \n",
    "               T_in, \n",
    "               T_out\n",
    "               ):\n",
    "    return abs(coef * area * pow(2* 9.81* height* ((T_in-T_out)/T_in), 0.5))\n"
   ]
  },
  {
   "cell_type": "code",
   "execution_count": 2,
   "metadata": {},
   "outputs": [
    {
     "data": {
      "text/plain": [
       "26882.95975483087"
      ]
     },
     "execution_count": 2,
     "metadata": {},
     "output_type": "execute_result"
    }
   ],
   "source": [
    "draft_flow(area=2000,\n",
    "           coef=0.8, \n",
    "           height=100,\n",
    "           T_in=273+5,\n",
    "           T_out=273+45\n",
    "           )"
   ]
  },
  {
   "cell_type": "code",
   "execution_count": 3,
   "metadata": {},
   "outputs": [],
   "source": [
    "# Потери давления на преодоление сил трения зависят от плотности и скорости течения теплоносителя, \n",
    "# а также параметров трубопровода. Потери на трение Pтр измеряются в кг на кв.м. и рассчитываются по формуле:\n",
    "\n",
    "# Pтр = (x*l/d) * (v*v*y)/2g,\n",
    "\n",
    "# где \n",
    "# x - безразмерный коэффициент трения, \n",
    "# l - длина трубы в метрах, \n",
    "# d - диаметр трубы в метрах, \n",
    "# v - скорость течения перемещаемой среды в м/с, \n",
    "# y - плотность теплоносителя в кг/куб.м., \n",
    "# g - ускорение свободного падения (9,8 м/с2).\n",
    "\n",
    "def draft(H_m, density_1, density_2):\n",
    "    return (H_m * (density_1 - density_2))\n",
    "\n",
    "\n",
    "def velocity(flow_m3_h, area_m2):\n",
    "    return (flow_m3_h / (area_m2 * 3600))\n",
    "\n",
    "def resistance(Hd, Dp, v, density):\n",
    "    return (0.02 * (Hd/Dp) * ((v**2)/2*9.8) * density)"
   ]
  },
  {
   "cell_type": "code",
   "execution_count": 4,
   "metadata": {},
   "outputs": [],
   "source": [
    "p_flow = 300000\n",
    "H_m = 30\n",
    "Dpipe = 7\n",
    "area_m2 = 3.14 * (Dpipe**2) / 4"
   ]
  },
  {
   "cell_type": "code",
   "execution_count": 8,
   "metadata": {},
   "outputs": [
    {
     "data": {
      "text/plain": [
       "38.465"
      ]
     },
     "execution_count": 8,
     "metadata": {},
     "output_type": "execute_result"
    }
   ],
   "source": [
    "area_m2"
   ]
  },
  {
   "cell_type": "code",
   "execution_count": 5,
   "metadata": {},
   "outputs": [
    {
     "data": {
      "text/plain": [
       "2.9699999999999993"
      ]
     },
     "execution_count": 5,
     "metadata": {},
     "output_type": "execute_result"
    }
   ],
   "source": [
    "draft(H_m=H_m, density_1=1.099, density_2=1.0)"
   ]
  },
  {
   "cell_type": "code",
   "execution_count": 6,
   "metadata": {},
   "outputs": [
    {
     "data": {
      "text/plain": [
       "2.1664716842150873"
      ]
     },
     "execution_count": 6,
     "metadata": {},
     "output_type": "execute_result"
    }
   ],
   "source": [
    "velocity(p_flow, area_m2)"
   ]
  },
  {
   "cell_type": "code",
   "execution_count": 7,
   "metadata": {},
   "outputs": [
    {
     "data": {
      "text/plain": [
       "1.7179982463998624"
      ]
     },
     "execution_count": 7,
     "metadata": {},
     "output_type": "execute_result"
    }
   ],
   "source": [
    "\n",
    "resistance(Hd=H_m, \n",
    "           Dp=Dpipe, \n",
    "           v=velocity(p_flow, area_m2), \n",
    "           density=0.8715\n",
    "           )"
   ]
  }
 ],
 "metadata": {
  "kernelspec": {
   "display_name": ".venv",
   "language": "python",
   "name": "python3"
  },
  "language_info": {
   "codemirror_mode": {
    "name": "ipython",
    "version": 3
   },
   "file_extension": ".py",
   "mimetype": "text/x-python",
   "name": "python",
   "nbconvert_exporter": "python",
   "pygments_lexer": "ipython3",
   "version": "3.12.8"
  }
 },
 "nbformat": 4,
 "nbformat_minor": 2
}
