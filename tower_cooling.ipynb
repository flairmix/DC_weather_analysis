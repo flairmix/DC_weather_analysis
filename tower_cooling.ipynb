{
 "cells": [
  {
   "cell_type": "code",
   "execution_count": 51,
   "metadata": {},
   "outputs": [],
   "source": [
    "# Потери давления на преодоление сил трения зависят от плотности и скорости течения теплоносителя, \n",
    "# а также параметров трубопровода. Потери на трение Pтр измеряются в кг на кв.м. и рассчитываются по формуле:\n",
    "\n",
    "# Pтр = (x*l/d) * (v*v*y)/2g,\n",
    "\n",
    "# где \n",
    "# x - безразмерный коэффициент трения, \n",
    "# l - длина трубы в метрах, \n",
    "# d - диаметр трубы в метрах, \n",
    "# v - скорость течения перемещаемой среды в м/с, \n",
    "# y - плотность теплоносителя в кг/куб.м., \n",
    "# g - ускорение свободного падения (9,8 м/с2).\n",
    "\n",
    "def draft(H_m, density_1, density_2):\n",
    "    return (H_m * (density_1 - density_2))\n",
    "\n",
    "\n",
    "def velocity(flow_m3_h, area_m2):\n",
    "    return (flow_m3_h / (area_m2 * 3600))\n",
    "\n",
    "def resistance(Hd, Dp, v, density):\n",
    "    return (0.02 * (Hd/Dp) * ((v**2)/2*9.8) * density)"
   ]
  },
  {
   "cell_type": "code",
   "execution_count": 52,
   "metadata": {},
   "outputs": [],
   "source": [
    "def G_air_heating(Q, t1, t2):\n",
    "  # G м3/ч \n",
    "  # Q_air_heating кВт\n",
    "  return int ((Q * 1000) / (0.278 * 1.21 * 1.005 * (t1-t2)) if t1 != t2 else 0)"
   ]
  },
  {
   "cell_type": "code",
   "execution_count": null,
   "metadata": {},
   "outputs": [],
   "source": []
  },
  {
   "cell_type": "code",
   "execution_count": 53,
   "metadata": {},
   "outputs": [],
   "source": [
    "t1 = -10\n",
    "t2 = 35\n",
    "p_flow = G_air_heating(50*12, t2, t1)\n",
    "\n",
    "H_m = 30\n",
    "Dpipe = 7\n",
    "area_m2 = 3.14 * (Dpipe**2) / 4"
   ]
  },
  {
   "cell_type": "code",
   "execution_count": 60,
   "metadata": {},
   "outputs": [
    {
     "data": {
      "text/plain": [
       "39440"
      ]
     },
     "execution_count": 60,
     "metadata": {},
     "output_type": "execute_result"
    }
   ],
   "source": [
    "p_flow"
   ]
  },
  {
   "cell_type": "code",
   "execution_count": 54,
   "metadata": {},
   "outputs": [
    {
     "data": {
      "text/plain": [
       "38.465"
      ]
     },
     "execution_count": 54,
     "metadata": {},
     "output_type": "execute_result"
    }
   ],
   "source": [
    "area_m2"
   ]
  },
  {
   "cell_type": "code",
   "execution_count": 59,
   "metadata": {},
   "outputs": [
    {
     "data": {
      "text/plain": [
       "9.860100000000001"
      ]
     },
     "execution_count": 59,
     "metadata": {},
     "output_type": "execute_result"
    }
   ],
   "source": [
    "draft(H_m=H_m, density_1=1.33, density_2=1.00133)"
   ]
  },
  {
   "cell_type": "code",
   "execution_count": 56,
   "metadata": {},
   "outputs": [
    {
     "data": {
      "text/plain": [
       "0.2848188107514768"
      ]
     },
     "execution_count": 56,
     "metadata": {},
     "output_type": "execute_result"
    }
   ],
   "source": [
    "velocity(p_flow, area_m2)"
   ]
  },
  {
   "cell_type": "code",
   "execution_count": 58,
   "metadata": {},
   "outputs": [
    {
     "data": {
      "text/plain": [
       "0.034116451694631414"
      ]
     },
     "execution_count": 58,
     "metadata": {},
     "output_type": "execute_result"
    }
   ],
   "source": [
    "\n",
    "resistance(Hd=H_m, \n",
    "           Dp=Dpipe, \n",
    "           v=velocity(p_flow, area_m2), \n",
    "           density=1.00133\n",
    "           )"
   ]
  }
 ],
 "metadata": {
  "kernelspec": {
   "display_name": ".venv",
   "language": "python",
   "name": "python3"
  },
  "language_info": {
   "codemirror_mode": {
    "name": "ipython",
    "version": 3
   },
   "file_extension": ".py",
   "mimetype": "text/x-python",
   "name": "python",
   "nbconvert_exporter": "python",
   "pygments_lexer": "ipython3",
   "version": "3.12.8"
  }
 },
 "nbformat": 4,
 "nbformat_minor": 2
}
